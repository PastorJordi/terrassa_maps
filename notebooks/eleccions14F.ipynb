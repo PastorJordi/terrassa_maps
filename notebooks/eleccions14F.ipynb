{
 "cells": [
  {
   "cell_type": "code",
   "execution_count": null,
   "id": "sorted-database",
   "metadata": {},
   "outputs": [],
   "source": [
    "import pandas as pd\n",
    "import geopandas as gpd\n",
    "import numpy as np\n",
    "import matplotlib.pyplot as plt\n",
    "import seaborn as sns\n",
    "import plotly.express as px\n",
    "import plotly.io as pio; pio.renderers.default='notebook'"
   ]
  },
  {
   "cell_type": "code",
   "execution_count": null,
   "id": "congressional-strengthening",
   "metadata": {},
   "outputs": [],
   "source": [
    "# data source:\n",
    "# https://opendata.terrassa.cat/dataset/mapa-de-la-ciutat-amb-les-divisions-per-seccions-censals\n",
    "geodf = gpd.read_file('../maps/pt_cens.shp').to_crs(epsg=4326) # else plotly may complain\n",
    "\n",
    "# data source: \n",
    "# https://analisi.transparenciacatalunya.cat/Societat-benestar/Eleccions-al-Parlament-de-Catalunya-2021-Recompte-/ix2p-vyw4\n",
    "vots = pd.read_csv('../data/Eleccions_al_Parlament_de_Catalunya_2021_-_Recompte_provisional_per_mesa.csv')\n",
    "vots=vots.loc[vots['Codi municipi']==279] # discard all but Terrassa\n",
    "print(vots.shape)\n",
    "vots.head()"
   ]
  },
  {
   "cell_type": "code",
   "execution_count": null,
   "id": "dried-ending",
   "metadata": {},
   "outputs": [],
   "source": [
    "# aggregate per section\n",
    "df = vots.groupby(['Districte','Secció']).sum()\n",
    "df = df[[x for x in df.columns if not x.startswith('%')]] # get rid of %, we might calculate them later\n",
    "print(df.shape)\n",
    "df.head()"
   ]
  },
  {
   "cell_type": "code",
   "execution_count": null,
   "id": "viral-surrey",
   "metadata": {},
   "outputs": [],
   "source": [
    "df.columns"
   ]
  },
  {
   "cell_type": "code",
   "execution_count": null,
   "id": "faced-shoulder",
   "metadata": {},
   "outputs": [],
   "source": [
    "newcolnames = df.columns.tolist()[:10]+[x.split('(')[-1][:-1] for x in df.columns[10:]] # keep acronym per party\n",
    "df.columns = newcolnames\n",
    "df = df[[x for x in df.columns if not x.startswith('Codi')]] # drop nonsense aggregated data\n",
    "df.head()"
   ]
  },
  {
   "cell_type": "code",
   "execution_count": null,
   "id": "ranging-workstation",
   "metadata": {},
   "outputs": [],
   "source": [
    "partits = df.iloc[:,7:].columns\n",
    "df['partit_max'] = df.iloc[:,7:].values.argmax(axis=1)\n",
    "df['perc_abst'] = df['Abstenció'] * 100 / df['Cens electoral']\n",
    "df.head()"
   ]
  },
  {
   "cell_type": "code",
   "execution_count": null,
   "id": "outside-focus",
   "metadata": {},
   "outputs": [],
   "source": [
    "df.partit_max.unique() # just PSC, ERC amd JxCat"
   ]
  },
  {
   "cell_type": "code",
   "execution_count": null,
   "id": "municipal-discovery",
   "metadata": {},
   "outputs": [],
   "source": [
    "for i, partit in enumerate(partits):\n",
    "    df[f'perc_{partit}'] = 100*df[partit]/df['Vots vàlids']\n",
    "    \n",
    "df.head()"
   ]
  },
  {
   "cell_type": "code",
   "execution_count": null,
   "id": "satisfactory-biology",
   "metadata": {},
   "outputs": [],
   "source": [
    "# # we'll retake this later falta color per representar\n",
    "colors = {\n",
    "    'PSC':'#e10819',#ff', PSC # 0 indx in partits\n",
    "    'ERC':'#ffe210',#ff', # ERC # 1\n",
    "    'JxCat': '#20c0b2',#ff' # junts # 3\n",
    "         }\n",
    "dict_nom_index_partit = dict(\n",
    "    zip(np.arange(partits.size), partits)\n",
    ")\n",
    "#df['partit_mes_votat'] = df.partit_max.map(colors)\n",
    "df['partit_mes_votat'] = df.partit_max.map(dict_nom_index_partit)\n"
   ]
  },
  {
   "cell_type": "code",
   "execution_count": null,
   "id": "theoretical-haiti",
   "metadata": {
    "scrolled": false
   },
   "outputs": [],
   "source": [
    "# we'll generate a json file due plotly failing to read geometry directly from geopandas\n",
    "geodf.to_file(\"terrassa_cens.json\", driver = \"GeoJSON\")\n",
    "import json\n",
    "with open(\"terrassa_cens.json\") as geofile:\n",
    "    j_file = json.load(geofile)\n",
    "    \n",
    "# add id feature (default name plotly will look for) to link it later with our geodf.index\n",
    "for i,feature in enumerate(j_file[\"features\"]):\n",
    "    feature['id'] = str(i)\n",
    "    \n",
    "geodf.head(1)"
   ]
  },
  {
   "cell_type": "code",
   "execution_count": null,
   "id": "animal-round",
   "metadata": {},
   "outputs": [],
   "source": [
    "#geodf.dtypes\n",
    "for col in ['DIST', 'SECC']:\n",
    "    geodf[col]=geodf[col].astype(int)"
   ]
  },
  {
   "cell_type": "code",
   "execution_count": null,
   "id": "seventh-rough",
   "metadata": {
    "scrolled": true
   },
   "outputs": [],
   "source": [
    "# merge geodata with elections\n",
    "merged = pd.merge(\n",
    "    geodf, \n",
    "    df.reset_index(), \n",
    "    how='left', # left join keeps our geodf index\n",
    "    left_on=['DIST', 'SECC'],\n",
    "    right_on=['Districte', 'Secció']\n",
    ")\n",
    "merged.head(2)"
   ]
  },
  {
   "cell_type": "code",
   "execution_count": null,
   "id": "solar-access",
   "metadata": {},
   "outputs": [],
   "source": [
    "fig = px.choropleth_mapbox(merged.loc[merged['Vots vàlids']>0], #.to_crs(epsg=4326),\n",
    "                           geojson=j_file,\n",
    "                           locations=merged.loc[merged['Vots vàlids']>0].index,\n",
    "                           range_color=(0,100),\n",
    "                           color=(100-merged.loc[merged['Vots vàlids']>0,\"perc_abst\"]).round(decimals=2),\n",
    "                           color_continuous_scale=\"magma\",\n",
    "                           center={\"lat\": 41.56, \"lon\": 2.0},\n",
    "                           mapbox_style='carto-positron',\n",
    "                           hover_data=['DIST', 'SECC'],\n",
    "                           labels={'color':'participació'},\n",
    "                           opacity=0.5,\n",
    "                           zoom=11)\n",
    "fig.update_layout(\n",
    "    coloraxis_colorbar=dict(\n",
    "        title=\"% Participació\",\n",
    "    ),\n",
    ")\n",
    "fig.write_html(\"../outputs/particip_14F_terrassa.html\")\n",
    "fig.show()"
   ]
  },
  {
   "cell_type": "code",
   "execution_count": null,
   "id": "solved-lloyd",
   "metadata": {
    "scrolled": false
   },
   "outputs": [],
   "source": [
    "fig = px.choropleth_mapbox(merged, \n",
    "                           geojson=j_file,\n",
    "                           locations=merged.index,\n",
    "                           color=merged[\"partit_mes_votat\"],\n",
    "                           #color_discrete_sequence='identity',\n",
    "                           color_discrete_map=colors,\n",
    "                           center={\"lat\": 41.56, \"lon\": 2.0},\n",
    "                           mapbox_style='carto-positron',\n",
    "                           hover_data=['DIST', 'SECC'],\n",
    "                           opacity=0.5,\n",
    "                           zoom=11)\n",
    "fig.update_layout(title='Partit més votat @ Terrassa el 14F per secció',\n",
    "                  legend={'title':'partit més votat'}\n",
    ")\n",
    "#fig.write_html(\"Vots_terrassa_secció.html\") # there's something better below\n",
    "fig.show()"
   ]
  },
  {
   "cell_type": "code",
   "execution_count": null,
   "id": "exotic-stamp",
   "metadata": {},
   "outputs": [],
   "source": [
    "# try to refine it\n",
    "# get 1r, 2n, 3r, 4t, 5e 6e and add it to hover as a string to display it interactively:\n",
    "# we'll write a function to get it with a single apply call\n",
    "\n",
    "def get_most_voted_strings(row):\n",
    "    idxes=np.argsort(row[partits].values)[::-1] # get index for most voted\n",
    "    names = partits[idxes[:8]]\n",
    "    altres = partits[idxes[8:]]\n",
    "    abs_vots = row.loc[names].values\n",
    "    altres_abs_vots = row.loc[altres].values.sum()\n",
    "    percvots = row.loc[[f'perc_{x}' for x in names]].values\n",
    "    altres_perc_vots = row.loc[[f'perc_{x}' for x in altres]].values.sum()\n",
    "    percvots = np.concatenate([percvots, [altres_perc_vots]])\n",
    "    abs_vots = np.concatenate([abs_vots, [altres_abs_vots]])\n",
    "    out = []\n",
    "    for i, name in enumerate(names.tolist()+['altres']):\n",
    "        out += [f'{name}, {round(percvots[i],2)}% ({abs_vots[i]} vots)']\n",
    "        \n",
    "    return out\n",
    "\n",
    "# example how the function work\n",
    "merged.iloc[:2].apply(lambda x: get_most_voted_strings(x), axis=1, result_type='expand')"
   ]
  },
  {
   "cell_type": "code",
   "execution_count": null,
   "id": "educated-hypothesis",
   "metadata": {
    "scrolled": false
   },
   "outputs": [],
   "source": [
    "tmp = merged.apply(lambda row: get_most_voted_strings(row), axis=1, result_type='expand')\n",
    "tmp.columns = ['1r', '2n', '3r', '4t', '5è', '6è', '7è', '8è','altres']\n",
    "merged = pd.concat([merged, tmp], axis=1)\n",
    "merged.head()"
   ]
  },
  {
   "cell_type": "code",
   "execution_count": null,
   "id": "round-astrology",
   "metadata": {},
   "outputs": [],
   "source": [
    "fig = px.choropleth_mapbox(merged.reset_index(), \n",
    "                           geojson=j_file,\n",
    "                           locations='index',\n",
    "                           color=\"partit_mes_votat\",\n",
    "                           color_discrete_map=colors,\n",
    "                           center={\"lat\": 41.56, \"lon\": 2.0},\n",
    "                           mapbox_style='carto-positron',\n",
    "                           hover_data={\n",
    "                               'partit_mes_votat':False,\n",
    "                               'index':False,\n",
    "                               'DIST':True,'SECC':True, '1r':True, \n",
    "                               '2n':True, '3r':True, '4t':True, '5è':True, '6è':True, \n",
    "                               '7è':True, '8è':True,'altres':True},\n",
    "                           opacity=0.5,\n",
    "                           zoom=11)\n",
    "fig.update_layout(title='Partit més votat @ Terrassa el 14F per secció',\n",
    "                 legend={'title':'partit més votat'}\n",
    ")\n",
    "fig.write_html(\"../outputs/Vots_terrassa_seccio.html\")\n",
    "fig.show()"
   ]
  },
  {
   "cell_type": "code",
   "execution_count": null,
   "id": "royal-nomination",
   "metadata": {
    "scrolled": true
   },
   "outputs": [],
   "source": [
    "### slider per party\n",
    "# we need to reshape dataframe with wide_to_long or melt\n",
    "melted = pd.melt(\n",
    "    merged.reset_index(),\n",
    "    id_vars=['index', 'DIST', 'SECC', 'geometry'],\n",
    "    value_vars=[f'perc_{x}' for x in partits[:10]],\n",
    "    value_name='perc',\n",
    "    var_name='partit'\n",
    ")\n",
    "melted.partit=melted.partit.str.split('_').str[-1]\n",
    "melted.head()"
   ]
  },
  {
   "cell_type": "code",
   "execution_count": null,
   "id": "chief-scoop",
   "metadata": {},
   "outputs": [],
   "source": [
    "# later me, also get votes. perhaps pivoting would have worked better\n",
    "melted['vots_abs'] = pd.melt(\n",
    "    merged.reset_index(),\n",
    "    id_vars=['index', 'DIST', 'SECC', 'geometry'],\n",
    "    value_vars=[f'{x}' for x in partits[:10]],\n",
    "    value_name='vots_abs',\n",
    "    var_name='partit'\n",
    ")['vots_abs']"
   ]
  },
  {
   "cell_type": "code",
   "execution_count": null,
   "id": "productive-chapter",
   "metadata": {},
   "outputs": [],
   "source": [
    "melted.head(1)"
   ]
  },
  {
   "cell_type": "code",
   "execution_count": null,
   "id": "regulated-cutting",
   "metadata": {},
   "outputs": [],
   "source": [
    "print(melted.partit.unique())\n",
    "melted.perc.max()"
   ]
  },
  {
   "cell_type": "code",
   "execution_count": null,
   "id": "spread-disclaimer",
   "metadata": {},
   "outputs": [],
   "source": [
    "# we need to get a color for each of these and play with alpha value? # some colors might be trash\n",
    "# just use a continuous colorscale instead\n",
    "\n",
    "fig = px.choropleth_mapbox(melted.round(2), \n",
    "                           geojson=j_file,\n",
    "                           locations='index',\n",
    "                           range_color=(0,50),\n",
    "                           color='perc',\n",
    "                           color_continuous_scale=\"magma\",\n",
    "                           center={\"lat\": 41.56, \"lon\": 2.0},\n",
    "                           mapbox_style='carto-positron',\n",
    "                           #hover_data=['DIST', 'SECC'],\n",
    "                           labels={'perc':'% vots/secció',\n",
    "                                   'vots_abs': '# vots/secció'\n",
    "                           },\n",
    "                           animation_frame='partit',\n",
    "                           opacity=0.5,\n",
    "                           hover_data={\n",
    "                               'partit':True,\n",
    "                               'index':False,\n",
    "                               'DIST':True,'SECC':True,\n",
    "                               'perc':True, 'vots_abs':True # formatting petardeja\n",
    "                           },\n",
    "                           zoom=11)\n",
    "fig.update_layout(\n",
    "    coloraxis_colorbar=dict(\n",
    "        title=\"% vots\",\n",
    "    ),\n",
    ")\n",
    "# not really accessible\n",
    "# thanks god the community: https://community.plotly.com/t/how-to-slow-down-animation-in-plotly-express/31309/4\n",
    "fig.layout.updatemenus[0].buttons[0].args[1][\"frame\"][\"duration\"] = 5000\n",
    "fig.write_html(\"../outputs/perc_vots_partits.html\")\n",
    "fig.show()"
   ]
  },
  {
   "cell_type": "code",
   "execution_count": null,
   "id": "spare-honduras",
   "metadata": {},
   "outputs": [],
   "source": [
    "# meh not really clear. Try plottin diff from mean instead\n",
    "# retake original df\n",
    "perc_global = pd.DataFrame(\n",
    "    100* df[partits[:10]].sum()/df['Vots vàlids'].sum()\n",
    ").reset_index()\n",
    "perc_global.columns = ['partit', 'perc_global']\n",
    "melted = melted.merge(perc_global, how='left',\n",
    "            on='partit')\n",
    "melted['relative_perc'] = melted.perc-melted.perc_global\n",
    "melted.relative_perc.describe()"
   ]
  },
  {
   "cell_type": "code",
   "execution_count": null,
   "id": "leading-heaven",
   "metadata": {},
   "outputs": [],
   "source": [
    "melted.head()"
   ]
  },
  {
   "cell_type": "code",
   "execution_count": null,
   "id": "amazing-basin",
   "metadata": {},
   "outputs": [],
   "source": [
    "fig = px.choropleth_mapbox(melted, \n",
    "                           geojson=j_file,\n",
    "                           locations='index',\n",
    "                           #range_color=(-30,30), # to get fair transitions (in magnitude)\n",
    "                           color_continuous_midpoint=0, # more vivid\n",
    "                           color=melted['relative_perc'].round(2),\n",
    "                           color_continuous_scale=\"balance\",\n",
    "                           center={\"lat\": 41.56, \"lon\": 2.0},\n",
    "                           mapbox_style='carto-positron',\n",
    "                           hover_data=['DIST', 'SECC'],\n",
    "                           labels={'color':'vs global ciutat'},\n",
    "                           animation_frame='partit',\n",
    "                           opacity=0.5,\n",
    "                           zoom=11)\n",
    "fig.update_layout(\n",
    "    title='diferència respecte al promig de Terrassa',\n",
    "    coloraxis_colorbar=dict(\n",
    "        title=\"% vots\",\n",
    "    ),\n",
    ")\n",
    "# not really accessible\n",
    "# thanks god the community: https://community.plotly.com/t/how-to-slow-down-animation-in-plotly-express/31309/4\n",
    "fig.layout.updatemenus[0].buttons[0].args[1][\"frame\"][\"duration\"] = 5000\n",
    "fig.write_html(\"../outputs/perc_vots_relatiu.html\")\n",
    "fig.show()"
   ]
  },
  {
   "cell_type": "code",
   "execution_count": null,
   "id": "moving-embassy",
   "metadata": {},
   "outputs": [],
   "source": [
    "# vale, ara experimentarem amb el datawrapper que mola bastant més el hover\n",
    "# com aquí_ https://www.diaridegirona.cat/eleccions/catalanes/2021/02/14/mapa-interactiu-resultats-eleccions-catalanes/1089170.html\n",
    "\n",
    "# l'api en python pseeee\n",
    "# TBD"
   ]
  },
  {
   "cell_type": "code",
   "execution_count": null,
   "id": "duplicate-deposit",
   "metadata": {},
   "outputs": [],
   "source": []
  }
 ],
 "metadata": {
  "kernelspec": {
   "display_name": "Python 3",
   "language": "python",
   "name": "python3"
  },
  "language_info": {
   "codemirror_mode": {
    "name": "ipython",
    "version": 3
   },
   "file_extension": ".py",
   "mimetype": "text/x-python",
   "name": "python",
   "nbconvert_exporter": "python",
   "pygments_lexer": "ipython3",
   "version": "3.7.9"
  }
 },
 "nbformat": 4,
 "nbformat_minor": 5
}
